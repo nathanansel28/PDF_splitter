{
 "cells": [
  {
   "cell_type": "markdown",
   "metadata": {},
   "source": [
    "### Setup"
   ]
  },
  {
   "cell_type": "code",
   "execution_count": 9,
   "metadata": {},
   "outputs": [],
   "source": [
    "from PyPDF2 import PdfReader, PdfWriter\n",
    "\n",
    "def split_pdf(input_pdf, output_pdf, page_numbers):\n",
    "    with open(input_pdf, 'rb') as file:\n",
    "        reader = PdfReader(file)\n",
    "        writer = PdfWriter()\n",
    "\n",
    "        for page_number in page_numbers:\n",
    "            if '-' in str(page_number):\n",
    "                start, end = map(int, page_number.split('-'))\n",
    "                for i in range(start, end + 1):\n",
    "                    writer.add_page(reader.pages[i - 1])\n",
    "            else:\n",
    "                writer.add_page(reader.pages[page_number - 1])\n",
    "\n",
    "        with open(output_pdf, 'wb') as output_file:\n",
    "            writer.write(output_file)"
   ]
  },
  {
   "cell_type": "markdown",
   "metadata": {},
   "source": [
    "### Lecture 1"
   ]
  },
  {
   "cell_type": "code",
   "execution_count": 8,
   "metadata": {},
   "outputs": [],
   "source": [
    "page_numbers = [1, 2, 7, 8, '11-18', '74-77']\n",
    "split_pdf('L1.pdf', 'L1.0 Course Admin.pdf', page_numbers)\n",
    "\n",
    "page_numbers = [1, 7, 8, 19, 21, 23, 25, 27, '28-30', 32, '34-36', 41, 43, 48, 49, 50, 52, 53, 54, 56, 57, 58] \n",
    "split_pdf('L1.pdf', 'L1.1 Introduction & Overview of Systems Engineering.pdf', page_numbers)\n",
    "\n",
    "page_numbers = [1, 59, 60, '61-69', '71-73', 77]\n",
    "split_pdf('L1.pdf', 'L1.2 NASA Systems Engineering.pdf', page_numbers)"
   ]
  },
  {
   "cell_type": "markdown",
   "metadata": {},
   "source": [
    "### Lecture 2"
   ]
  },
  {
   "cell_type": "code",
   "execution_count": 11,
   "metadata": {},
   "outputs": [],
   "source": [
    "page_numbers = ['1-4', 6, 9, '10-11', '13-18', 20, 22, 23, '25-32', '35-40', 45, 48, 49, '51-54', 56, 58, 59, 63, 65, '66-68', '71-78', 80, 81, 83, 84, 85]\n",
    "split_pdf('L2.pdf', 'L2.1 Define the Problem Part I (summarised).pdf', page_numbers)"
   ]
  },
  {
   "cell_type": "markdown",
   "metadata": {},
   "source": [
    "### Lecture "
   ]
  },
  {
   "cell_type": "markdown",
   "metadata": {},
   "source": [
    "### Lecture "
   ]
  },
  {
   "cell_type": "markdown",
   "metadata": {},
   "source": [
    "### Lecture "
   ]
  }
 ],
 "metadata": {
  "kernelspec": {
   "display_name": "Python 3",
   "language": "python",
   "name": "python3"
  },
  "language_info": {
   "codemirror_mode": {
    "name": "ipython",
    "version": 3
   },
   "file_extension": ".py",
   "mimetype": "text/x-python",
   "name": "python",
   "nbconvert_exporter": "python",
   "pygments_lexer": "ipython3",
   "version": "3.11.1"
  }
 },
 "nbformat": 4,
 "nbformat_minor": 2
}
